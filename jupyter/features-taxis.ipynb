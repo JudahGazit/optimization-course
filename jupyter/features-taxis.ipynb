{
 "cells": [
  {
   "cell_type": "code",
   "execution_count": 30,
   "metadata": {},
   "outputs": [],
   "source": [
    "%matplotlib inline\n",
    "from deco.imports import *\n",
    "from deco.context import *\n",
    "import json\n",
    "from pprint import pprint\n",
    "import sklearn.ensemble as st\n",
    "from sklearn.model_selection import *\n",
    "from datetime import datetime\n",
    "import random\n",
    "from math import sin, cos, sqrt, atan2, radians\n",
    "import networkx as nx\n",
    "import numpy as np\n",
    "from scipy.stats import norm\n",
    "import matplotlib.pyplot as plt\n",
    "from tqdm import tqdm"
   ]
  },
  {
   "cell_type": "code",
   "execution_count": 3,
   "metadata": {},
   "outputs": [],
   "source": [
    "PATH = '/home/rotem/Documents/code/optimization-course/'"
   ]
  },
  {
   "cell_type": "code",
   "execution_count": 4,
   "metadata": {},
   "outputs": [],
   "source": [
    "def choose_columns(df_grid, select_cols=['pickup_datetime', 'trip_time_in_secs', 'trip_distance']):\n",
    "    df_grid = df_grid.copy()\n",
    "    df_reference = pd.read_csv(PATH + 'trip_data_1.csv', error_bad_lines=False, warn_bad_lines=False, nrows=1)\n",
    "    df_grid.columns = list(df_reference.columns) + ['pickup_grid', 'dropoff_grid']\n",
    "    df_grid = df_grid[select_cols].sort_values(select_cols[0])\n",
    "    return df_grid\n",
    "\n",
    "def format_dates(df):\n",
    "    df = df.copy()\n",
    "    df.pickup_datetime = pd.to_datetime(df.pickup_datetime, format='%Y-%m-%d %H:%M:%S')\n",
    "    df['time_of_day'] = df.pickup_datetime.apply(lambda d: d.timestamp() % (24 * 60 * 60))\n",
    "    df['DATE'] = df.pickup_datetime.dt.strftime('%Y-%m-%d')\n",
    "    return df\n",
    "\n",
    "def load_data(pickup_grid='87G8Q279+', dropoff_grid='87G8Q225+'):\n",
    "    df_grid = pd.read_csv(f'{PATH}/trip_data_{pickup_grid}_{dropoff_grid}.csv', header=None)\n",
    "    df_grid = choose_columns(df_grid)\n",
    "    df_grid = format_dates(df_grid)\n",
    "    return df_grid"
   ]
  },
  {
   "cell_type": "code",
   "execution_count": 5,
   "metadata": {},
   "outputs": [],
   "source": [
    "def add_holidays(df):\n",
    "    df = df.copy()\n",
    "    usa_holidays = pd.read_csv(PATH + 'usholidays.csv')\n",
    "    usa_holidays.columns = [c.upper() for c in usa_holidays.columns]\n",
    "    usa_holidays = usa_holidays[['DATE', 'HOLIDAY']]\n",
    "    df = df.merge(usa_holidays, on=['DATE'], how='left')\n",
    "    df.HOLIDAY = df.HOLIDAY.apply(lambda v: 1 if v else 0)\n",
    "    return df\n",
    "\n",
    "def add_weather(df):\n",
    "    df = df.copy()\n",
    "    weather = pd.read_csv(PATH + 'nyc-weather.csv')\n",
    "    weather = weather[weather.NAME == 'NY CITY CENTRAL PARK, NY US'][['DATE', 'TMAX', 'TMIN', 'PRCP', 'SNOW', 'SNWD', 'AWND', 'WDF2', 'WDF5', 'WSF2', 'WSF5']]\n",
    "    weather.TMAX = (weather.TMAX - 32) * 5.0/9.0\n",
    "    weather.TMIN = (weather.TMIN - 32) * 5.0/9.0\n",
    "    df = df.merge(weather, on=['DATE'], )\n",
    "    return df\n",
    "\n",
    "def add_date_parts(df):\n",
    "    df = df.copy()\n",
    "    attrs = ['Dayofweek', 'Day', 'Month', ]\n",
    "    for attr in attrs:\n",
    "        df[f'pickup_datetime{attr.lower()}'] = getattr(df.pickup_datetime.dt, attr.lower())\n",
    "    return df\n",
    "\n",
    "def add_stock_daily_diff(df):\n",
    "    df = df.copy()\n",
    "    p = pd.read_csv(PATH + 'prices.csv')\n",
    "    p = p[(p.date >= '2013') & (p.date < '2014') ]\n",
    "    p.date = p.date.apply(lambda v: v[:10])\n",
    "    p['price'] = p.close - p.open\n",
    "    p['DATE'] = p.date\n",
    "    p = p.groupby('DATE', as_index=False).agg({'close': 'mean', 'open': 'mean'}).sort_values('DATE')\n",
    "    p = p.reset_index(drop=True).merge(p, left_index=True, right_index=True)\n",
    "    p['price'] = p.close_x - p.open_y\n",
    "    p['DATE'] = p.DATE_x\n",
    "    p = p[['DATE', 'price']]\n",
    "    display(plt.plot(p.DATE, p.price))\n",
    "    df = df.merge(p, on=['DATE'], how='left')\n",
    "    return df"
   ]
  },
  {
   "cell_type": "code",
   "execution_count": 6,
   "metadata": {},
   "outputs": [],
   "source": [
    "features = [add_holidays, add_weather, add_date_parts]\n",
    "def apply_features(base_df, features=features):\n",
    "    df = base_df.copy()\n",
    "    for feature in features:\n",
    "        df = feature(df)\n",
    "    df = df.sort_values('pickup_datetime')\n",
    "    return df"
   ]
  },
  {
   "cell_type": "code",
   "execution_count": 7,
   "metadata": {},
   "outputs": [],
   "source": [
    "def clean_anomalys(df):\n",
    "    df.copy()\n",
    "    df = df[(df.trip_distance > 0.05) & (df.trip_distance <= 2)]\n",
    "    return df"
   ]
  },
  {
   "cell_type": "code",
   "execution_count": 8,
   "metadata": {},
   "outputs": [],
   "source": [
    "df = load_data()\n",
    "df = apply_features(df)\n",
    "df = clean_anomalys(df)"
   ]
  },
  {
   "cell_type": "code",
   "execution_count": 9,
   "metadata": {},
   "outputs": [
    {
     "data": {
      "text/plain": [
       "[<matplotlib.lines.Line2D at 0x7f1b79e58750>]"
      ]
     },
     "execution_count": 9,
     "metadata": {},
     "output_type": "execute_result"
    },
    {
     "data": {
      "image/png": "[encoded data removed]",
      "text/plain": [
       "<Figure size 432x288 with 1 Axes>"
      ]
     },
     "metadata": {
      "needs_background": "light"
     },
     "output_type": "display_data"
    }
   ],
   "source": [
    "g = df[df.DATE == '2013-03-01'].reset_index(drop=True)\n",
    "plt.plot(g.time_of_day, g.trip_time_in_secs / g.trip_distance)"
   ]
  },
  {
   "cell_type": "code",
   "execution_count": 10,
   "metadata": {
    "jupyter": {
     "source_hidden": true
    }
   },
   "outputs": [],
   "source": [
    "## not in use - expiramental removal of \"false\" drives\n",
    "# for iteration in range(10):\n",
    "#     data = df.trip_distance\n",
    "#     mu, std = norm.fit(data)\n",
    "#     vals = plt.hist(df.trip_distance, bins=100, density=True, alpha=0.6, color='g')\n",
    "#     xmin, xmax = plt.xlim()\n",
    "#     x = np.linspace(xmin, xmax, 50)\n",
    "#     p = norm.pdf(x, mu, std)\n",
    "#     plt.plot(x, p, 'k', linewidth=2)\n",
    "#     title = \"Fit results: mu = %.2f,  std = %.2f\" % (mu, std)\n",
    "#     plt.title(title)\n",
    "    \n",
    "#     max_diff = 0\n",
    "#     max_loc = 0\n",
    "#     candidate = []\n",
    "#     for index, bucket in enumerate(list(zip(vals[1], vals[0]))):\n",
    "#         for point in [item for item in data.drop_duplicates() if vals[1][index] <= item <= vals[1][index + 1]]:\n",
    "#             d = abs(norm.pdf(point, mu, std) - bucket[1])\n",
    "#             if d > max_diff:\n",
    "#                 max_diff = d\n",
    "#                 max_loc = index\n",
    "#                 candidate = point\n",
    "    \n",
    "# #     max_bucket = list(vals[0]).index(max(vals[0]))\n",
    "# #     cendidates = [item for item in data.drop_duplicates() if vals[1][max_bucket] <= item <= vals[1][max_bucket + 1]]\n",
    "# #     max_diff = max(candidates)\n",
    "#     print(candidate, max_diff, max_loc)\n",
    "#     df = df[df.trip_distance != candidate]"
   ]
  },
  {
   "cell_type": "code",
   "execution_count": 11,
   "metadata": {},
   "outputs": [],
   "source": [
    "df = df.drop(['pickup_datetime', 'DATE'], axis=1)"
   ]
  },
  {
   "cell_type": "code",
   "execution_count": 12,
   "metadata": {},
   "outputs": [
    {
     "data": {
      "text/plain": [
       "Index(['trip_time_in_secs', 'trip_distance', 'time_of_day', 'HOLIDAY', 'TMAX',\n",
       "       'TMIN', 'PRCP', 'SNOW', 'SNWD', 'AWND', 'WDF2', 'WDF5', 'WSF2', 'WSF5',\n",
       "       'pickup_datetimedayofweek', 'pickup_datetimeday',\n",
       "       'pickup_datetimemonth'],\n",
       "      dtype='object')"
      ]
     },
     "metadata": {},
     "output_type": "display_data"
    }
   ],
   "source": [
    "df.WSF5 = df.WSF5.apply(lambda x: 0 if np.isnan(x) else x)\n",
    "df.WDF5 = df.WDF5.apply(lambda x: 0 if np.isnan(x) else x)\n",
    "# df.price = df.price.apply(lambda x: 0 if np.isnan(x) else x)\n",
    "display(df.columns)"
   ]
  },
  {
   "cell_type": "code",
   "execution_count": 13,
   "metadata": {},
   "outputs": [],
   "source": [
    "train_df, test_df = train_test_split(df[df.trip_distance > 0.25], test_size=0.2, random_state=42)\n",
    "x_train, y_train = train_df.drop('trip_time_in_secs', axis=1), train_df.trip_time_in_secs\n",
    "x_test, y_test = test_df.drop('trip_time_in_secs', axis=1), test_df.trip_time_in_secs"
   ]
  },
  {
   "cell_type": "code",
   "execution_count": 14,
   "metadata": {},
   "outputs": [],
   "source": [
    "def l1_diff(x, y):\n",
    "    return abs((x-y))"
   ]
  },
  {
   "cell_type": "code",
   "execution_count": 15,
   "metadata": {},
   "outputs": [],
   "source": [
    "tests_results = []"
   ]
  },
  {
   "cell_type": "code",
   "execution_count": 16,
   "metadata": {},
   "outputs": [],
   "source": [
    "def print_score(m):\n",
    "    rows = []\n",
    "    rows.append(['l1 - mean', l1_diff(m.predict(x_train), y_train).mean(), l1_diff(m.predict(x_test), y_test).mean()])\n",
    "    rows.append(['l1 - std', l1_diff(m.predict(x_train), y_train).std(), l1_diff(m.predict(x_test), y_test).std()])\n",
    "    rows.append(['l1 - quantile', l1_diff(m.predict(x_train), y_train).quantile(), l1_diff(m.predict(x_test), y_test).quantile()])\n",
    "    rows.append(['l1 - min', l1_diff(m.predict(x_train), y_train).min(), l1_diff(m.predict(x_test), y_test).min()])\n",
    "    rows.append(['l1 - max', l1_diff(m.predict(x_train), y_train).max(), l1_diff(m.predict(x_test), y_test).max()])\n",
    "    rows.append(['r2', m.score(x_train, y_train), m.score(x_test, y_test)])\n",
    "    df = pd.DataFrame(rows, columns=['name', 'train', 'test'])\n",
    "    \n",
    "    if tests_results:\n",
    "        print('last test:')\n",
    "        display(tests_results.pop())\n",
    "    tests_results.append(df)\n",
    "    print('latest test:')\n",
    "    display(df)"
   ]
  },
  {
   "cell_type": "code",
   "execution_count": 17,
   "metadata": {},
   "outputs": [
    {
     "name": "stdout",
     "output_type": "stream",
     "text": [
      "latest test:\n"
     ]
    },
    {
     "data": {
      "text/html": [
       "<div>\n",
       "<style scoped>\n",
       "    .dataframe tbody tr th:only-of-type {\n",
       "        vertical-align: middle;\n",
       "    }\n",
       "\n",
       "    .dataframe tbody tr th {\n",
       "        vertical-align: top;\n",
       "    }\n",
       "\n",
       "    .dataframe thead th {\n",
       "        text-align: right;\n",
       "    }\n",
       "</style>\n",
       "<table border=\"1\" class=\"dataframe\">\n",
       "  <thead>\n",
       "    <tr style=\"text-align: right;\">\n",
       "      <th></th>\n",
       "      <th>name</th>\n",
       "      <th>train</th>\n",
       "      <th>test</th>\n",
       "    </tr>\n",
       "  </thead>\n",
       "  <tbody>\n",
       "    <tr>\n",
       "      <th>0</th>\n",
       "      <td>l1 - mean</td>\n",
       "      <td>61.299260</td>\n",
       "      <td>96.530693</td>\n",
       "    </tr>\n",
       "    <tr>\n",
       "      <th>1</th>\n",
       "      <td>l1 - std</td>\n",
       "      <td>65.643332</td>\n",
       "      <td>95.537649</td>\n",
       "    </tr>\n",
       "    <tr>\n",
       "      <th>2</th>\n",
       "      <td>l1 - quantile</td>\n",
       "      <td>44.363849</td>\n",
       "      <td>73.073383</td>\n",
       "    </tr>\n",
       "    <tr>\n",
       "      <th>3</th>\n",
       "      <td>l1 - min</td>\n",
       "      <td>0.004414</td>\n",
       "      <td>0.045005</td>\n",
       "    </tr>\n",
       "    <tr>\n",
       "      <th>4</th>\n",
       "      <td>l1 - max</td>\n",
       "      <td>2960.632738</td>\n",
       "      <td>2779.795179</td>\n",
       "    </tr>\n",
       "    <tr>\n",
       "      <th>5</th>\n",
       "      <td>r2</td>\n",
       "      <td>0.878286</td>\n",
       "      <td>0.722556</td>\n",
       "    </tr>\n",
       "  </tbody>\n",
       "</table>\n",
       "</div>"
      ],
      "text/plain": [
       "            name        train         test\n",
       "0      l1 - mean    61.299260    96.530693\n",
       "1       l1 - std    65.643332    95.537649\n",
       "2  l1 - quantile    44.363849    73.073383\n",
       "3       l1 - min     0.004414     0.045005\n",
       "4       l1 - max  2960.632738  2779.795179\n",
       "5             r2     0.878286     0.722556"
      ]
     },
     "metadata": {},
     "output_type": "display_data"
    }
   ],
   "source": [
    "m = st.RandomForestRegressor(n_jobs=-1, n_estimators=40, max_features=0.9, min_samples_leaf=3, oob_score=True)\n",
    "m.fit(x_train, y_train)\n",
    "print_score(m)"
   ]
  },
  {
   "cell_type": "code",
   "execution_count": 32,
   "metadata": {},
   "outputs": [
    {
     "name": "stdout",
     "output_type": "stream",
     "text": [
      "[90.23820928057613, 122.6844316411747, 0.7932020943111237, 0.6149679251313769]\n"
     ]
    }
   ],
   "source": [
    "m = st.ExtraTreesRegressor(n_jobs=-1, n_estimators=300, max_features=0.5, min_samples_leaf=3, )\n",
    "m.fit(x_train, y_train)\n",
    "print_score(m)"
   ]
  },
  {
   "cell_type": "code",
   "execution_count": 19,
   "metadata": {},
   "outputs": [
    {
     "name": "stdout",
     "output_type": "stream",
     "text": [
      "[191.34498197239742, 187.1700421361616, 0.18748817439192178, 0.17710458812129182]\n"
     ]
    }
   ],
   "source": [
    "from sklearn.linear_model import LinearRegression\n",
    "m = LinearRegression()\n",
    "m.fit(x_train, y_train)\n",
    "print_score(m)"
   ]
  },
  {
   "cell_type": "code",
   "execution_count": null,
   "metadata": {},
   "outputs": [
    {
     "name": "stdout",
     "output_type": "stream",
     "text": [
      "rows: 67\n"
     ]
    }
   ],
   "source": [
    "from sklearn.linear_model import Ridge\n",
    "from sklearn.preprocessing import PolynomialFeatures\n",
    "from sklearn.pipeline import make_pipeline\n",
    "print(f'rows: {len(rows)}')\n",
    "pm = make_pipeline(PolynomialFeatures(10, order='F'), LinearRegression())\n",
    "pm.fit(rows, m.predict(rows))\n",
    "# print_score(pm)"
   ]
  },
  {
   "cell_type": "code",
   "execution_count": 36,
   "metadata": {},
   "outputs": [],
   "source": [
    "def pretty_preds(preds, buffer=10):\n",
    "    for i in range(len(preds)):\n",
    "        preds_range = preds[max(i-buffer, 0):min(i+buffer, len(preds) - 1)]\n",
    "        preds[i] = sum(preds_range) / len(preds_range)\n",
    "    return preds"
   ]
  },
  {
   "cell_type": "code",
   "execution_count": 212,
   "metadata": {},
   "outputs": [],
   "source": [
    "def plot_day_with_predict_func(predict):\n",
    "    gen = x_test.sample(n=1, random_state=42)\n",
    "    display(gen)\n",
    "    gen = gen.values[0]\n",
    "    cols = list(x_test.columns)\n",
    "    x, y = [], []\n",
    "    for i in range(0, 60 * 60 * 24, 100):\n",
    "        x.append(i / 60 / 60)\n",
    "        y.append(predict(gen, i))\n",
    "    plt.plot(x, y)"
   ]
  },
  {
   "cell_type": "code",
   "execution_count": 214,
   "metadata": {},
   "outputs": [
    {
     "data": {
      "text/html": [
       "<div>\n",
       "<style scoped>\n",
       "    .dataframe tbody tr th:only-of-type {\n",
       "        vertical-align: middle;\n",
       "    }\n",
       "\n",
       "    .dataframe tbody tr th {\n",
       "        vertical-align: top;\n",
       "    }\n",
       "\n",
       "    .dataframe thead th {\n",
       "        text-align: right;\n",
       "    }\n",
       "</style>\n",
       "<table border=\"1\" class=\"dataframe\">\n",
       "  <thead>\n",
       "    <tr style=\"text-align: right;\">\n",
       "      <th></th>\n",
       "      <th>trip_distance</th>\n",
       "      <th>time_of_day</th>\n",
       "      <th>HOLIDAY</th>\n",
       "      <th>TMAX</th>\n",
       "      <th>TMIN</th>\n",
       "      <th>PRCP</th>\n",
       "      <th>SNOW</th>\n",
       "      <th>SNWD</th>\n",
       "      <th>AWND</th>\n",
       "      <th>WDF2</th>\n",
       "      <th>WDF5</th>\n",
       "      <th>WSF2</th>\n",
       "      <th>WSF5</th>\n",
       "      <th>pickup_datetimedayofweek</th>\n",
       "      <th>pickup_datetimeday</th>\n",
       "      <th>pickup_datetimemonth</th>\n",
       "    </tr>\n",
       "  </thead>\n",
       "  <tbody>\n",
       "    <tr>\n",
       "      <th>8405</th>\n",
       "      <td>0.96</td>\n",
       "      <td>36960.0</td>\n",
       "      <td>1</td>\n",
       "      <td>10.555556</td>\n",
       "      <td>2.777778</td>\n",
       "      <td>0.0</td>\n",
       "      <td>0.0</td>\n",
       "      <td>0.0</td>\n",
       "      <td>5.82</td>\n",
       "      <td>310.0</td>\n",
       "      <td>350.0</td>\n",
       "      <td>13.0</td>\n",
       "      <td>23.0</td>\n",
       "      <td>3</td>\n",
       "      <td>28</td>\n",
       "      <td>3</td>\n",
       "    </tr>\n",
       "  </tbody>\n",
       "</table>\n",
       "</div>"
      ],
      "text/plain": [
       "      trip_distance  time_of_day  HOLIDAY       TMAX      TMIN  PRCP  SNOW  \\\n",
       "8405           0.96      36960.0        1  10.555556  2.777778   0.0   0.0   \n",
       "\n",
       "      SNWD  AWND   WDF2   WDF5  WSF2  WSF5  pickup_datetimedayofweek  \\\n",
       "8405   0.0  5.82  310.0  350.0  13.0  23.0                         3   \n",
       "\n",
       "      pickup_datetimeday  pickup_datetimemonth  \n",
       "8405                  28                     3  "
      ]
     },
     "metadata": {},
     "output_type": "display_data"
    },
    {
     "data": {
      "image/png": "[encoded data removed]",
      "text/plain": [
       "<Figure size 432x288 with 1 Axes>"
      ]
     },
     "metadata": {
      "needs_background": "light"
     },
     "output_type": "display_data"
    }
   ],
   "source": [
    "plot_day_with_predict_func(predict)"
   ]
  },
  {
   "cell_type": "code",
   "execution_count": 150,
   "metadata": {},
   "outputs": [],
   "source": [
    "import hashlib\n",
    "CACHE = {}"
   ]
  },
  {
   "cell_type": "code",
   "execution_count": 162,
   "metadata": {},
   "outputs": [],
   "source": [
    "def predict(row, time_of_day=None, buffer=1000, buffer_samples=21):\n",
    "    cols = list(x_test.columns)\n",
    "    rows = []\n",
    "    time_of_day = time_of_day or row[cols.index('time_of_day')]\n",
    "    row_hash = [str(item) for index, item in enumerate(row) if index != cols.index('time_of_day')]\n",
    "    row_hash = hashlib.md5('_'.join(row_hash).encode()).digest()\n",
    "    if row_hash not in CACHE:\n",
    "        CACHE[row_hash] = {}\n",
    "    preds = []\n",
    "    for i in np.linspace(max(time_of_day - buffer, 0), min(time_of_day + buffer, 60 * 60 * 24), buffer_samples):\n",
    "        if i in CACHE[row_hash]:\n",
    "            preds.append(CACHE[row_hash][i])\n",
    "        else:\n",
    "            row = row.copy()\n",
    "            row[cols.index('time_of_day')] = i\n",
    "            rows.append(row)\n",
    "    if rows:\n",
    "        rows = pd.DataFrame(rows, columns=cols)\n",
    "        preds_new = m.predict(rows)\n",
    "        preds.extend(preds_new)\n",
    "        for i, p in zip(rows.time_of_day, preds_new):\n",
    "            CACHE[row_hash][i] = p\n",
    "    return sum(preds) / len(preds)"
   ]
  },
  {
   "cell_type": "code",
   "execution_count": 196,
   "metadata": {},
   "outputs": [],
   "source": [
    "def predict(row, time_of_day=None, buffer=1000, buffer_samples=21):\n",
    "    time_of_day_index = list(x_test.columns).index('time_of_day')\n",
    "    rows = []\n",
    "    time_of_day = time_of_day or row[time_of_day_index]\n",
    "    for i in np.linspace(max(time_of_day - buffer, 0), min(time_of_day + buffer, 60 * 60 * 24), buffer_samples):\n",
    "        row = row.copy()\n",
    "        row[time_of_day_index] = i\n",
    "        rows.append(row)\n",
    "    rows = pd.DataFrame(rows, columns=cols)\n",
    "    preds = m.predict(rows)\n",
    "    return preds.mean()"
   ]
  },
  {
   "cell_type": "code",
   "execution_count": 197,
   "metadata": {},
   "outputs": [],
   "source": [
    "## time - time_of_day_max <= 0\n",
    "## time_of_day_min - time <= 0\n",
    "def penalty_predict(row, time_of_day, time_of_day_min, time_of_day_max, factor=1):\n",
    "    res = predict(row, time_of_day)\n",
    "    res += factor * max([time_of_day - time_of_day_max, 0]) ** 2\n",
    "    res += factor * max([time_of_day_min - time_of_day, 0]) ** 2\n",
    "    return res"
   ]
  },
  {
   "cell_type": "code",
   "execution_count": 275,
   "metadata": {},
   "outputs": [],
   "source": [
    "import random"
   ]
  },
  {
   "cell_type": "code",
   "execution_count": 322,
   "metadata": {},
   "outputs": [],
   "source": [
    "def minimize_penalty_in_boundry(row, x0, xmin, xmax, factor_iterations, error=1e-5):\n",
    "    print(f'minimize using {x0}, {xmin}, {xmax}, {factor_iterations}')\n",
    "    res = None\n",
    "    last_res = None\n",
    "    counter = 0\n",
    "    while (res is None or last_res is None or last_res[0] - res[0] > error) and counter < factor_iterations:\n",
    "        last_res = res\n",
    "        res_ = scipy.optimize.fmin(lambda x: penalty_predict(row, x, xmin, xmax, 10 ** counter), res[1] if res else x0)\n",
    "        res_value = penalty_predict(row, res_, xmin, xmax, 10 ** counter)\n",
    "        res = [res_value, res_[0],]\n",
    "        counter += 1\n",
    "    return res\n",
    "\n",
    "def minimize_penalty(row, x0, xmin, xmax, factor_iterations=5, boundry_iterations=10, error=1e-3):\n",
    "    counter = 0\n",
    "    min_res = minimize_penalty_in_boundry(row, x0, xmin, xmax, factor_iterations, error)\n",
    "    min_left = None\n",
    "    min_right = None\n",
    "    while (min_left is None or min_right is None \\\n",
    "        or max([min_res[0] - min_left[0], min_res[0] - min_right[0]]) > error) \\\n",
    "        and counter < boundry_iterations:\n",
    "        min_res = min([min_res, min_left or [float('infinity')], min_right or [float('infinity')]])\n",
    "        print(f'current minimum is {min_res[0], min_res[1] / 60 / 60}')\n",
    "        min_left = minimize_penalty_in_boundry(row, xmin / 2, xmin, min_res[1], factor_iterations, error)\n",
    "        min_right = minimize_penalty_in_boundry(row, xmax * 2, min_res[1], xmax, factor_iterations, error)\n",
    "        counter += 1\n",
    "    return min_res"
   ]
  },
  {
   "cell_type": "code",
   "execution_count": 325,
   "metadata": {},
   "outputs": [
    {
     "data": {
      "text/html": [
       "<div>\n",
       "<style scoped>\n",
       "    .dataframe tbody tr th:only-of-type {\n",
       "        vertical-align: middle;\n",
       "    }\n",
       "\n",
       "    .dataframe tbody tr th {\n",
       "        vertical-align: top;\n",
       "    }\n",
       "\n",
       "    .dataframe thead th {\n",
       "        text-align: right;\n",
       "    }\n",
       "</style>\n",
       "<table border=\"1\" class=\"dataframe\">\n",
       "  <thead>\n",
       "    <tr style=\"text-align: right;\">\n",
       "      <th></th>\n",
       "      <th>trip_distance</th>\n",
       "      <th>time_of_day</th>\n",
       "      <th>HOLIDAY</th>\n",
       "      <th>TMAX</th>\n",
       "      <th>TMIN</th>\n",
       "      <th>PRCP</th>\n",
       "      <th>SNOW</th>\n",
       "      <th>SNWD</th>\n",
       "      <th>AWND</th>\n",
       "      <th>WDF2</th>\n",
       "      <th>WDF5</th>\n",
       "      <th>WSF2</th>\n",
       "      <th>WSF5</th>\n",
       "      <th>pickup_datetimedayofweek</th>\n",
       "      <th>pickup_datetimeday</th>\n",
       "      <th>pickup_datetimemonth</th>\n",
       "    </tr>\n",
       "  </thead>\n",
       "  <tbody>\n",
       "    <tr>\n",
       "      <th>8405</th>\n",
       "      <td>0.96</td>\n",
       "      <td>36960.0</td>\n",
       "      <td>1</td>\n",
       "      <td>10.555556</td>\n",
       "      <td>2.777778</td>\n",
       "      <td>0.0</td>\n",
       "      <td>0.0</td>\n",
       "      <td>0.0</td>\n",
       "      <td>5.82</td>\n",
       "      <td>310.0</td>\n",
       "      <td>350.0</td>\n",
       "      <td>13.0</td>\n",
       "      <td>23.0</td>\n",
       "      <td>3</td>\n",
       "      <td>28</td>\n",
       "      <td>3</td>\n",
       "    </tr>\n",
       "  </tbody>\n",
       "</table>\n",
       "</div>"
      ],
      "text/plain": [
       "      trip_distance  time_of_day  HOLIDAY       TMAX      TMIN  PRCP  SNOW  \\\n",
       "8405           0.96      36960.0        1  10.555556  2.777778   0.0   0.0   \n",
       "\n",
       "      SNWD  AWND   WDF2   WDF5  WSF2  WSF5  pickup_datetimedayofweek  \\\n",
       "8405   0.0  5.82  310.0  350.0  13.0  23.0                         3   \n",
       "\n",
       "      pickup_datetimeday  pickup_datetimemonth  \n",
       "8405                  28                     3  "
      ]
     },
     "metadata": {},
     "output_type": "display_data"
    },
    {
     "name": "stdout",
     "output_type": "stream",
     "text": [
      "minimize using 6, 54000, 86400, 5\n",
      "Optimization terminated successfully.\n",
      "         Current function value: 261.490445\n",
      "         Iterations: 47\n",
      "         Function evaluations: 113\n",
      "Optimization terminated successfully.\n",
      "         Current function value: 261.490445\n",
      "         Iterations: 27\n",
      "         Function evaluations: 74\n",
      "current minimum is (261.49044475365906, 21.18558333333343)\n",
      "minimize using 27000.0, 54000, 76268.10000000034, 5\n",
      "Optimization terminated successfully.\n",
      "         Current function value: 261.569185\n",
      "         Iterations: 39\n",
      "         Function evaluations: 93\n",
      "Optimization terminated successfully.\n",
      "         Current function value: 261.490445\n",
      "         Iterations: 28\n",
      "         Function evaluations: 74\n",
      "Optimization terminated successfully.\n",
      "         Current function value: 261.490445\n",
      "         Iterations: 27\n",
      "         Function evaluations: 70\n",
      "minimize using 172800, 76268.10000000034, 86400, 5\n",
      "Optimization terminated successfully.\n",
      "         Current function value: 261.501517\n",
      "         Iterations: 36\n",
      "         Function evaluations: 90\n",
      "Optimization terminated successfully.\n",
      "         Current function value: 261.490445\n",
      "         Iterations: 28\n",
      "         Function evaluations: 73\n",
      "Optimization terminated successfully.\n",
      "         Current function value: 261.490445\n",
      "         Iterations: 27\n",
      "         Function evaluations: 71\n"
     ]
    }
   ],
   "source": [
    "gen = x_test.sample(n=1, random_state=42)\n",
    "display(gen)\n",
    "gen = gen.values[0]\n",
    "\n",
    "res = minimize_penalty(gen, 6, 15 * 60 * 60, 24 * 60 * 60, )"
   ]
  },
  {
   "cell_type": "code",
   "execution_count": 327,
   "metadata": {},
   "outputs": [
    {
     "data": {
      "text/plain": [
       "21.18558333333343"
      ]
     },
     "execution_count": 327,
     "metadata": {},
     "output_type": "execute_result"
    }
   ],
   "source": [
    "res[1] / 60 / 60"
   ]
  },
  {
   "cell_type": "code",
   "execution_count": 302,
   "metadata": {},
   "outputs": [
    {
     "data": {
      "text/plain": [
       "inf"
      ]
     },
     "execution_count": 302,
     "metadata": {},
     "output_type": "execute_result"
    }
   ],
   "source": [
    "float('infinity')"
   ]
  },
  {
   "cell_type": "code",
   "execution_count": null,
   "metadata": {},
   "outputs": [],
   "source": []
  }
 ],
 "metadata": {
  "kernelspec": {
   "display_name": "ml-env",
   "language": "python",
   "name": "ml-env"
  },
  "language_info": {
   "codemirror_mode": {
    "name": "ipython",
    "version": 3
   },
   "file_extension": ".py",
   "mimetype": "text/x-python",
   "name": "python",
   "nbconvert_exporter": "python",
   "pygments_lexer": "ipython3",
   "version": "3.7.5"
  }
 },
 "nbformat": 4,
 "nbformat_minor": 4
}
