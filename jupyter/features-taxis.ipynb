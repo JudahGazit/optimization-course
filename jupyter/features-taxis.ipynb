{
 "cells": [
  {
   "cell_type": "code",
   "execution_count": 1,
   "metadata": {},
   "outputs": [],
   "source": [
    "%matplotlib inline\n",
    "from deco.imports import *\n",
    "from deco.context import *\n",
    "import json\n",
    "from pprint import pprint\n",
    "import sklearn.ensemble as st\n",
    "from sklearn.model_selection import *\n",
    "from datetime import datetime\n",
    "import random\n",
    "from math import sin, cos, sqrt, atan2, radians\n",
    "import networkx as nx\n",
    "import numpy as np\n",
    "from scipy.stats import norm\n",
    "import matplotlib.pyplot as plt"
   ]
  },
  {
   "cell_type": "code",
   "execution_count": 2,
   "metadata": {},
   "outputs": [],
   "source": [
    "PATH = '/home/rotem/Documents/code/optimization-course/'"
   ]
  },
  {
   "cell_type": "code",
   "execution_count": 3,
   "metadata": {},
   "outputs": [],
   "source": [
    "def choose_columns(df_grid, select_cols=['pickup_datetime', 'trip_time_in_secs', 'trip_distance']):\n",
    "    df_grid = df_grid.copy()\n",
    "    df_reference = pd.read_csv(PATH + 'trip_data_1.csv', error_bad_lines=False, warn_bad_lines=False, nrows=1)\n",
    "    df_grid.columns = list(df_reference.columns) + ['pickup_grid', 'dropoff_grid']\n",
    "    df_grid = df_grid[select_cols].sort_values(select_cols[0])\n",
    "    return df_grid\n",
    "\n",
    "def format_dates(df):\n",
    "    df = df.copy()\n",
    "    df.pickup_datetime = pd.to_datetime(df.pickup_datetime, format='%Y-%m-%d %H:%M:%S')\n",
    "    df['time_of_day'] = df.pickup_datetime.apply(lambda d: d.timestamp() % (24 * 60 * 60))\n",
    "    df['DATE'] = df.pickup_datetime.dt.strftime('%Y-%m-%d')\n",
    "    return df\n",
    "\n",
    "def load_data(pickup_grid='87G8Q279+', dropoff_grid='87G8Q225+'):\n",
    "    df_grid = pd.read_csv(f'{PATH}/trip_data_{pickup_grid}_{dropoff_grid}.csv', header=None)\n",
    "    df_grid = choose_columns(df_grid)\n",
    "    df_grid = format_dates(df_grid)\n",
    "    return df_grid"
   ]
  },
  {
   "cell_type": "code",
   "execution_count": 415,
   "metadata": {},
   "outputs": [],
   "source": [
    "def add_holidays(df):\n",
    "    df = df.copy()\n",
    "    usa_holidays = pd.read_csv(PATH + 'usholidays.csv')\n",
    "    usa_holidays.columns = [c.upper() for c in usa_holidays.columns]\n",
    "    usa_holidays = usa_holidays[['DATE', 'HOLIDAY']]\n",
    "    df = df.merge(usa_holidays, on=['DATE'], how='left')\n",
    "    df.HOLIDAY = df.HOLIDAY.apply(lambda v: 1 if v else 0)\n",
    "    return df\n",
    "\n",
    "def add_weather(df):\n",
    "    df = df.copy()\n",
    "    weather = pd.read_csv(PATH + 'nyc-weather.csv')\n",
    "    weather = weather[weather.NAME == 'NY CITY CENTRAL PARK, NY US'][['DATE', 'TMAX', 'TMIN', 'PRCP', 'SNOW', 'SNWD', 'AWND', 'WDF2', 'WDF5', 'WSF2', 'WSF5']]\n",
    "    weather.TMAX = (weather.TMAX - 32) * 5.0/9.0\n",
    "    weather.TMIN = (weather.TMIN - 32) * 5.0/9.0\n",
    "    df = df.merge(weather, on=['DATE'], )\n",
    "    return df\n",
    "\n",
    "def add_date_parts(df):\n",
    "    df = df.copy()\n",
    "    attrs = ['Dayofweek', 'Day', 'Month', ]\n",
    "    for attr in attrs:\n",
    "        df[f'pickup_datetime{attr.lower()}'] = getattr(df.pickup_datetime.dt, attr.lower())\n",
    "    return df\n",
    "\n",
    "def add_stock_daily_diff(df):\n",
    "    df = df.copy()\n",
    "    p = pd.read_csv(PATH + 'prices.csv')\n",
    "    p = p[(p.date >= '2013') & (p.date < '2014') ]\n",
    "    p.date = p.date.apply(lambda v: v[:10])\n",
    "    p['price'] = p.close - p.open\n",
    "    p['DATE'] = p.date\n",
    "    p = p.groupby('DATE', as_index=False).agg({'close': 'mean', 'open': 'mean'}).sort_values('DATE')\n",
    "    p = p.reset_index(drop=True).merge(p, left_index=True, right_index=True)\n",
    "    p['price'] = p.close_x - p.open_y\n",
    "    p['DATE'] = p.DATE_x\n",
    "    p = p[['DATE', 'price']]\n",
    "    display(plt.plot(p.DATE, p.price))\n",
    "    df = df.merge(p, on=['DATE'], how='left')\n",
    "    return df"
   ]
  },
  {
   "cell_type": "code",
   "execution_count": 417,
   "metadata": {},
   "outputs": [],
   "source": [
    "features = [add_holidays, add_weather, add_date_parts]\n",
    "def apply_features(base_df, features=features):\n",
    "    df = base_df.copy()\n",
    "    for feature in features:\n",
    "        df = feature(df)\n",
    "    df = df.sort_values('pickup_datetime')\n",
    "    return df"
   ]
  },
  {
   "cell_type": "code",
   "execution_count": 365,
   "metadata": {},
   "outputs": [],
   "source": [
    "def clean_anomalys(df):\n",
    "    df.copy()\n",
    "    df = df[(df.trip_distance > 0.05) & (df.trip_distance <= 2)]\n",
    "    return df"
   ]
  },
  {
   "cell_type": "code",
   "execution_count": 418,
   "metadata": {},
   "outputs": [],
   "source": [
    "df = load_data()\n",
    "df = apply_features(df)\n",
    "df = clean_anomalys(df)"
   ]
  },
  {
   "cell_type": "code",
   "execution_count": 174,
   "metadata": {},
   "outputs": [
    {
     "data": {
      "text/plain": [
       "[<matplotlib.lines.Line2D at 0x7f2de8bbc650>]"
      ]
     },
     "execution_count": 174,
     "metadata": {},
     "output_type": "execute_result"
    },
    {
     "data": {
      "image/png": "[encoded data removed]",
      "text/plain": [
       "<Figure size 432x288 with 1 Axes>"
      ]
     },
     "metadata": {
      "needs_background": "light"
     },
     "output_type": "display_data"
    }
   ],
   "source": [
    "g = df[df.DATE == '2013-03-01'].reset_index(drop=True)\n",
    "plt.plot(g.time_of_day, g.trip_time_in_secs / g.trip_distance)"
   ]
  },
  {
   "cell_type": "code",
   "execution_count": 324,
   "metadata": {
    "jupyter": {
     "source_hidden": true
    }
   },
   "outputs": [],
   "source": [
    "## not in use - expiramental removal of \"false\" drives\n",
    "# for iteration in range(10):\n",
    "#     data = df.trip_distance\n",
    "#     mu, std = norm.fit(data)\n",
    "#     vals = plt.hist(df.trip_distance, bins=100, density=True, alpha=0.6, color='g')\n",
    "#     xmin, xmax = plt.xlim()\n",
    "#     x = np.linspace(xmin, xmax, 50)\n",
    "#     p = norm.pdf(x, mu, std)\n",
    "#     plt.plot(x, p, 'k', linewidth=2)\n",
    "#     title = \"Fit results: mu = %.2f,  std = %.2f\" % (mu, std)\n",
    "#     plt.title(title)\n",
    "    \n",
    "#     max_diff = 0\n",
    "#     max_loc = 0\n",
    "#     candidate = []\n",
    "#     for index, bucket in enumerate(list(zip(vals[1], vals[0]))):\n",
    "#         for point in [item for item in data.drop_duplicates() if vals[1][index] <= item <= vals[1][index + 1]]:\n",
    "#             d = abs(norm.pdf(point, mu, std) - bucket[1])\n",
    "#             if d > max_diff:\n",
    "#                 max_diff = d\n",
    "#                 max_loc = index\n",
    "#                 candidate = point\n",
    "    \n",
    "# #     max_bucket = list(vals[0]).index(max(vals[0]))\n",
    "# #     cendidates = [item for item in data.drop_duplicates() if vals[1][max_bucket] <= item <= vals[1][max_bucket + 1]]\n",
    "# #     max_diff = max(candidates)\n",
    "#     print(candidate, max_diff, max_loc)\n",
    "#     df = df[df.trip_distance != candidate]"
   ]
  },
  {
   "cell_type": "code",
   "execution_count": 419,
   "metadata": {},
   "outputs": [],
   "source": [
    "df = df.drop(['pickup_datetime', 'DATE'], axis=1)"
   ]
  },
  {
   "cell_type": "code",
   "execution_count": 421,
   "metadata": {},
   "outputs": [
    {
     "data": {
      "text/plain": [
       "Index(['trip_time_in_secs', 'trip_distance', 'time_of_day', 'HOLIDAY', 'TMAX',\n",
       "       'TMIN', 'PRCP', 'SNOW', 'SNWD', 'AWND', 'WDF2', 'WDF5', 'WSF2', 'WSF5',\n",
       "       'pickup_datetimedayofweek', 'pickup_datetimeday',\n",
       "       'pickup_datetimemonth'],\n",
       "      dtype='object')"
      ]
     },
     "metadata": {},
     "output_type": "display_data"
    }
   ],
   "source": [
    "df.WSF5 = df.WSF5.apply(lambda x: 0 if np.isnan(x) else x)\n",
    "df.WDF5 = df.WDF5.apply(lambda x: 0 if np.isnan(x) else x)\n",
    "# df.price = df.price.apply(lambda x: 0 if np.isnan(x) else x)\n",
    "display(df.columns)"
   ]
  },
  {
   "cell_type": "code",
   "execution_count": 422,
   "metadata": {},
   "outputs": [],
   "source": [
    "train_df, test_df = train_test_split(df[df.trip_distance > 0.25], test_size=0.2, random_state=42)\n",
    "x_train, y_train = train_df.drop('trip_time_in_secs', axis=1), train_df.trip_time_in_secs\n",
    "x_test, y_test = test_df.drop('trip_time_in_secs', axis=1), test_df.trip_time_in_secs"
   ]
  },
  {
   "cell_type": "code",
   "execution_count": 423,
   "metadata": {},
   "outputs": [],
   "source": [
    "def l1_diff(x, y):\n",
    "    return abs((x-y))"
   ]
  },
  {
   "cell_type": "code",
   "execution_count": 424,
   "metadata": {},
   "outputs": [],
   "source": [
    "tests_results = []"
   ]
  },
  {
   "cell_type": "code",
   "execution_count": 427,
   "metadata": {},
   "outputs": [],
   "source": [
    "def print_score(m):\n",
    "    rows = []\n",
    "    rows.append(['l1 - mean', l1_diff(m.predict(x_train), y_train).mean(), l1_diff(m.predict(x_test), y_test).mean()])\n",
    "    rows.append(['l1 - std', l1_diff(m.predict(x_train), y_train).std(), l1_diff(m.predict(x_test), y_test).std()])\n",
    "    rows.append(['l1 - quantile', l1_diff(m.predict(x_train), y_train).quantile(), l1_diff(m.predict(x_test), y_test).quantile()])\n",
    "    rows.append(['l1 - min', l1_diff(m.predict(x_train), y_train).min(), l1_diff(m.predict(x_test), y_test).min()])\n",
    "    rows.append(['l1 - max', l1_diff(m.predict(x_train), y_train).max(), l1_diff(m.predict(x_test), y_test).max()])\n",
    "    rows.append(['r2', m.score(x_train, y_train), m.score(x_test, y_test)])\n",
    "    df = pd.DataFrame(rows, columns=['name', 'train', 'test'])\n",
    "    \n",
    "    if tests_results:\n",
    "        print('last test:')\n",
    "        display(tests_results.pop())\n",
    "    tests_results.append(df)\n",
    "    print('latest test:')\n",
    "    display(df)"
   ]
  },
  {
   "cell_type": "code",
   "execution_count": 428,
   "metadata": {},
   "outputs": [
    {
     "name": "stdout",
     "output_type": "stream",
     "text": [
      "last test:\n"
     ]
    },
    {
     "data": {
      "text/html": [
       "<div>\n",
       "<style scoped>\n",
       "    .dataframe tbody tr th:only-of-type {\n",
       "        vertical-align: middle;\n",
       "    }\n",
       "\n",
       "    .dataframe tbody tr th {\n",
       "        vertical-align: top;\n",
       "    }\n",
       "\n",
       "    .dataframe thead th {\n",
       "        text-align: right;\n",
       "    }\n",
       "</style>\n",
       "<table border=\"1\" class=\"dataframe\">\n",
       "  <thead>\n",
       "    <tr style=\"text-align: right;\">\n",
       "      <th></th>\n",
       "      <th>name</th>\n",
       "      <th>train</th>\n",
       "      <th>test</th>\n",
       "    </tr>\n",
       "  </thead>\n",
       "  <tbody>\n",
       "    <tr>\n",
       "      <th>0</th>\n",
       "      <td>l1 - mean</td>\n",
       "      <td>61.369306</td>\n",
       "      <td>96.271296</td>\n",
       "    </tr>\n",
       "    <tr>\n",
       "      <th>1</th>\n",
       "      <td>l1 - std</td>\n",
       "      <td>65.858637</td>\n",
       "      <td>95.533254</td>\n",
       "    </tr>\n",
       "    <tr>\n",
       "      <th>2</th>\n",
       "      <td>l1 - quantile</td>\n",
       "      <td>44.426062</td>\n",
       "      <td>72.640691</td>\n",
       "    </tr>\n",
       "    <tr>\n",
       "      <th>3</th>\n",
       "      <td>r2</td>\n",
       "      <td>0.877729</td>\n",
       "      <td>0.723321</td>\n",
       "    </tr>\n",
       "  </tbody>\n",
       "</table>\n",
       "</div>"
      ],
      "text/plain": [
       "            name      train       test\n",
       "0      l1 - mean  61.369306  96.271296\n",
       "1       l1 - std  65.858637  95.533254\n",
       "2  l1 - quantile  44.426062  72.640691\n",
       "3             r2   0.877729   0.723321"
      ]
     },
     "metadata": {},
     "output_type": "display_data"
    },
    {
     "name": "stdout",
     "output_type": "stream",
     "text": [
      "latest test:\n"
     ]
    },
    {
     "data": {
      "text/html": [
       "<div>\n",
       "<style scoped>\n",
       "    .dataframe tbody tr th:only-of-type {\n",
       "        vertical-align: middle;\n",
       "    }\n",
       "\n",
       "    .dataframe tbody tr th {\n",
       "        vertical-align: top;\n",
       "    }\n",
       "\n",
       "    .dataframe thead th {\n",
       "        text-align: right;\n",
       "    }\n",
       "</style>\n",
       "<table border=\"1\" class=\"dataframe\">\n",
       "  <thead>\n",
       "    <tr style=\"text-align: right;\">\n",
       "      <th></th>\n",
       "      <th>name</th>\n",
       "      <th>train</th>\n",
       "      <th>test</th>\n",
       "    </tr>\n",
       "  </thead>\n",
       "  <tbody>\n",
       "    <tr>\n",
       "      <th>0</th>\n",
       "      <td>l1 - mean</td>\n",
       "      <td>61.131289</td>\n",
       "      <td>96.219224</td>\n",
       "    </tr>\n",
       "    <tr>\n",
       "      <th>1</th>\n",
       "      <td>l1 - std</td>\n",
       "      <td>64.880064</td>\n",
       "      <td>95.639484</td>\n",
       "    </tr>\n",
       "    <tr>\n",
       "      <th>2</th>\n",
       "      <td>l1 - quantile</td>\n",
       "      <td>44.524544</td>\n",
       "      <td>72.998403</td>\n",
       "    </tr>\n",
       "    <tr>\n",
       "      <th>3</th>\n",
       "      <td>l1 - min</td>\n",
       "      <td>0.005694</td>\n",
       "      <td>0.049713</td>\n",
       "    </tr>\n",
       "    <tr>\n",
       "      <th>4</th>\n",
       "      <td>l1 - max</td>\n",
       "      <td>2776.246637</td>\n",
       "      <td>2744.548046</td>\n",
       "    </tr>\n",
       "    <tr>\n",
       "      <th>5</th>\n",
       "      <td>r2</td>\n",
       "      <td>0.880100</td>\n",
       "      <td>0.723167</td>\n",
       "    </tr>\n",
       "  </tbody>\n",
       "</table>\n",
       "</div>"
      ],
      "text/plain": [
       "            name        train         test\n",
       "0      l1 - mean    61.131289    96.219224\n",
       "1       l1 - std    64.880064    95.639484\n",
       "2  l1 - quantile    44.524544    72.998403\n",
       "3       l1 - min     0.005694     0.049713\n",
       "4       l1 - max  2776.246637  2744.548046\n",
       "5             r2     0.880100     0.723167"
      ]
     },
     "metadata": {},
     "output_type": "display_data"
    }
   ],
   "source": [
    "m = st.RandomForestRegressor(n_jobs=-1, n_estimators=40, max_features=0.9, min_samples_leaf=3, oob_score=True)\n",
    "m.fit(x_train, y_train)\n",
    "print_score(m)"
   ]
  },
  {
   "cell_type": "code",
   "execution_count": 32,
   "metadata": {},
   "outputs": [
    {
     "name": "stdout",
     "output_type": "stream",
     "text": [
      "[90.23820928057613, 122.6844316411747, 0.7932020943111237, 0.6149679251313769]\n"
     ]
    }
   ],
   "source": [
    "m = st.ExtraTreesRegressor(n_jobs=-1, n_estimators=300, max_features=0.5, min_samples_leaf=3, )\n",
    "m.fit(x_train, y_train)\n",
    "print_score(m)"
   ]
  },
  {
   "cell_type": "code",
   "execution_count": 19,
   "metadata": {},
   "outputs": [
    {
     "name": "stdout",
     "output_type": "stream",
     "text": [
      "[191.34498197239742, 187.1700421361616, 0.18748817439192178, 0.17710458812129182]\n"
     ]
    }
   ],
   "source": [
    "from sklearn.linear_model import LinearRegression\n",
    "m = LinearRegression()\n",
    "m.fit(x_train, y_train)\n",
    "print_score(m)"
   ]
  },
  {
   "cell_type": "code",
   "execution_count": null,
   "metadata": {},
   "outputs": [
    {
     "name": "stdout",
     "output_type": "stream",
     "text": [
      "rows: 67\n"
     ]
    }
   ],
   "source": [
    "from sklearn.linear_model import Ridge\n",
    "from sklearn.preprocessing import PolynomialFeatures\n",
    "from sklearn.pipeline import make_pipeline\n",
    "print(f'rows: {len(rows)}')\n",
    "pm = make_pipeline(PolynomialFeatures(10, order='F'), LinearRegression())\n",
    "pm.fit(rows, m.predict(rows))\n",
    "# print_score(pm)"
   ]
  },
  {
   "cell_type": "code",
   "execution_count": 87,
   "metadata": {},
   "outputs": [],
   "source": [
    "def pretty_preds(preds, buffer=10):\n",
    "    for i in range(len(preds)):\n",
    "        preds_range = preds[max(i-buffer, 0):min(i+buffer, len(preds) - 1)]\n",
    "        preds[i] = sum(preds_range) / len(preds_range)\n",
    "    return preds"
   ]
  },
  {
   "cell_type": "code",
   "execution_count": 455,
   "metadata": {},
   "outputs": [
    {
     "data": {
      "text/html": [
       "<div>\n",
       "<style scoped>\n",
       "    .dataframe tbody tr th:only-of-type {\n",
       "        vertical-align: middle;\n",
       "    }\n",
       "\n",
       "    .dataframe tbody tr th {\n",
       "        vertical-align: top;\n",
       "    }\n",
       "\n",
       "    .dataframe thead th {\n",
       "        text-align: right;\n",
       "    }\n",
       "</style>\n",
       "<table border=\"1\" class=\"dataframe\">\n",
       "  <thead>\n",
       "    <tr style=\"text-align: right;\">\n",
       "      <th></th>\n",
       "      <th>trip_distance</th>\n",
       "      <th>time_of_day</th>\n",
       "      <th>HOLIDAY</th>\n",
       "      <th>TMAX</th>\n",
       "      <th>TMIN</th>\n",
       "      <th>PRCP</th>\n",
       "      <th>SNOW</th>\n",
       "      <th>SNWD</th>\n",
       "      <th>AWND</th>\n",
       "      <th>WDF2</th>\n",
       "      <th>WDF5</th>\n",
       "      <th>WSF2</th>\n",
       "      <th>WSF5</th>\n",
       "      <th>pickup_datetimedayofweek</th>\n",
       "      <th>pickup_datetimeday</th>\n",
       "      <th>pickup_datetimemonth</th>\n",
       "    </tr>\n",
       "  </thead>\n",
       "  <tbody>\n",
       "    <tr>\n",
       "      <th>10368</th>\n",
       "      <td>1.04</td>\n",
       "      <td>75360.0</td>\n",
       "      <td>1</td>\n",
       "      <td>15.0</td>\n",
       "      <td>6.666667</td>\n",
       "      <td>0.0</td>\n",
       "      <td>0.0</td>\n",
       "      <td>0.0</td>\n",
       "      <td>5.82</td>\n",
       "      <td>60.0</td>\n",
       "      <td>180.0</td>\n",
       "      <td>14.1</td>\n",
       "      <td>18.1</td>\n",
       "      <td>0</td>\n",
       "      <td>15</td>\n",
       "      <td>4</td>\n",
       "    </tr>\n",
       "  </tbody>\n",
       "</table>\n",
       "</div>"
      ],
      "text/plain": [
       "       trip_distance  time_of_day  HOLIDAY  TMAX      TMIN  PRCP  SNOW  SNWD  \\\n",
       "10368           1.04      75360.0        1  15.0  6.666667   0.0   0.0   0.0   \n",
       "\n",
       "       AWND  WDF2   WDF5  WSF2  WSF5  pickup_datetimedayofweek  \\\n",
       "10368  5.82  60.0  180.0  14.1  18.1                         0   \n",
       "\n",
       "       pickup_datetimeday  pickup_datetimemonth  \n",
       "10368                  15                     4  "
      ]
     },
     "metadata": {},
     "output_type": "display_data"
    },
    {
     "name": "stdout",
     "output_type": "stream",
     "text": [
      "M\n"
     ]
    },
    {
     "data": {
      "text/plain": [
       "[<matplotlib.lines.Line2D at 0x7f2db74de0d0>]"
      ]
     },
     "execution_count": 455,
     "metadata": {},
     "output_type": "execute_result"
    },
    {
     "data": {
      "image/png": "[encoded data removed]",
      "text/plain": [
       "<Figure size 432x288 with 1 Axes>"
      ]
     },
     "metadata": {
      "needs_background": "light"
     },
     "output_type": "display_data"
    }
   ],
   "source": [
    "gen = x_test.sample(n=1, random_state=45)\n",
    "display(gen)\n",
    "gen = gen.values[0]\n",
    "cols = list(x_test.columns)\n",
    "rows = []\n",
    "for i in range(0, 60 * 60 * 24, 10):\n",
    "# for i in range(20000, 40000, 1):\n",
    "    row = gen.copy()\n",
    "    row[cols.index('time_of_day')] = i\n",
    "    rows.append(row)\n",
    "rows = pd.DataFrame(rows, columns=cols)\n",
    "preds = m.predict(rows)\n",
    "# plt.plot(rows.time_of_day, preds)\n",
    "print ('MTWtFSs'[int(gen[-3])])\n",
    "plt.plot(rows.time_of_day / 60 / 60, pretty_preds(preds, 100))\n"
   ]
  },
  {
   "cell_type": "code",
   "execution_count": null,
   "metadata": {},
   "outputs": [],
   "source": []
  }
 ],
 "metadata": {
  "kernelspec": {
   "display_name": "ml-env",
   "language": "python",
   "name": "ml-env"
  },
  "language_info": {
   "codemirror_mode": {
    "name": "ipython",
    "version": 3
   },
   "file_extension": ".py",
   "mimetype": "text/x-python",
   "name": "python",
   "nbconvert_exporter": "python",
   "pygments_lexer": "ipython3",
   "version": "3.7.5"
  }
 },
 "nbformat": 4,
 "nbformat_minor": 4
}
