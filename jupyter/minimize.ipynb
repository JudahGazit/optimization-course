{
 "cells": [
  {
   "cell_type": "code",
   "execution_count": 29,
   "metadata": {},
   "outputs": [],
   "source": [
    "import numpy as np\n",
    "import random"
   ]
  },
  {
   "cell_type": "code",
   "execution_count": 58,
   "metadata": {},
   "outputs": [],
   "source": [
    "def nelder_mead_terminate(iteration, iteration_limit, x, error=1e-3):\n",
    "    if iteration >= iteration_limit:\n",
    "        return True\n",
    "    for i in range(len(x) - 1):\n",
    "        if np.linalg.norm(x[i] - x[i+1]) > error:\n",
    "            return False\n",
    "    return True"
   ]
  },
  {
   "cell_type": "code",
   "execution_count": 90,
   "metadata": {},
   "outputs": [],
   "source": [
    "ALPHA, GAMA, RO, SIGMA = 1., 2., 0.5, 0.5\n",
    "def nelder_mead_minimize_(f, n, xinit, iteration, error=1e-3, iteration_limit=100):\n",
    "    xinit = sorted(xinit, key=f)\n",
    "    fx = [f(x) for x in xinit]\n",
    "    x0 = sum(xinit[:n]) / n\n",
    "    if nelder_mead_terminate(iteration, iteration_limit, xinit,  error):\n",
    "        return x0\n",
    "    else:\n",
    "        xr = x0 + ALPHA * (x0 - xinit[n])\n",
    "        if fx[0] <= f(xr) < fx[n]:\n",
    "            return nelder_mead_minimize_(f, n, xinit[:n] + [xr], iteration + 1, error)\n",
    "        if f(xr) < fx[0]:\n",
    "            xe = x0 + GAMA * (xr - x0)\n",
    "            if f(xe) < f(xr):\n",
    "                return nelder_mead_minimize_(f, n, xinit[:n] + [xe], iteration + 1, error)\n",
    "            else:\n",
    "                return nelder_mead_minimize_(f, n, xinit[:n] + [xr], iteration + 1, error)\n",
    "        else:\n",
    "            xc = x0 + RO * (xinit[n] - x0)\n",
    "            if f(xc) < fx[n]:\n",
    "                return nelder_mead_minimize_(f, n, xinit[:n] + [xc], iteration + 1, error)\n",
    "        shrink_xinit = [xinit[0]] + [xinit[0] + SIGMA * (x - xinit[0]) for x in xinit[1:]]\n",
    "        return nelder_mead_minimize_(f, n, shrink_xinit, iteration + 1, error)\n",
    "    "
   ]
  },
  {
   "cell_type": "code",
   "execution_count": 144,
   "metadata": {},
   "outputs": [],
   "source": [
    "def nelder_mead_minimize(f, x0, error=1e-3, iteration_limit=100):\n",
    "    n = len(x0)\n",
    "    xinit = [x0]\n",
    "    for i in range(n):\n",
    "        x = x0.copy()\n",
    "        r = random.uniform(- 10 * error, 10 * error)\n",
    "        x[i] = float(x[i]) + r\n",
    "        xinit.append(x)\n",
    "    return nelder_mead_minimize_(f, n, xinit, 0, error, iteration_limit)"
   ]
  },
  {
   "cell_type": "code",
   "execution_count": 165,
   "metadata": {},
   "outputs": [
    {
     "data": {
      "text/plain": [
       "array([2.00000023, 1.00000046])"
      ]
     },
     "execution_count": 165,
     "metadata": {},
     "output_type": "execute_result"
    }
   ],
   "source": [
    "nelder_mead_minimize(lambda x: (x[0] - 2) ** 2 + (x[1] - 1) ** 2 - 1,\n",
    "                     np.array([0., 1.]), 1e-6)"
   ]
  },
  {
   "cell_type": "code",
   "execution_count": null,
   "metadata": {},
   "outputs": [],
   "source": []
  },
  {
   "cell_type": "code",
   "execution_count": null,
   "metadata": {},
   "outputs": [],
   "source": []
  }
 ],
 "metadata": {
  "kernelspec": {
   "display_name": "ml-env",
   "language": "python",
   "name": "ml-env"
  },
  "language_info": {
   "codemirror_mode": {
    "name": "ipython",
    "version": 3
   },
   "file_extension": ".py",
   "mimetype": "text/x-python",
   "name": "python",
   "nbconvert_exporter": "python",
   "pygments_lexer": "ipython3",
   "version": "3.7.5"
  }
 },
 "nbformat": 4,
 "nbformat_minor": 4
}
